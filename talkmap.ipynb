{
 "cells": [
  {
   "attachments": {},
   "cell_type": "markdown",
   "metadata": {},
   "source": [
    "# Leaflet cluster map of talk locations\n",
    "\n",
    "Run this from the _talks/ directory, which contains .md files of all your talks. This scrapes the location YAML field from each .md file, geolocates it with geopy/Nominatim, and uses the getorg library to output data, HTML, and Javascript for a standalone cluster map."
   ]
  },
  {
   "cell_type": "code",
   "execution_count": 1,
   "metadata": {
    "collapsed": false
   },
   "outputs": [
    {
     "name": "stdout",
     "output_type": "stream",
     "text": [
      "Collecting getorgNote: you may need to restart the kernel to use updated packages.\n",
      "  Downloading getorg-0.3.1-py2.py3-none-any.whl (39 kB)\n",
      "Collecting retrying\n",
      "  Downloading retrying-1.3.4-py3-none-any.whl (11 kB)\n",
      "Collecting pygithub\n",
      "  Downloading PyGithub-1.59.0-py3-none-any.whl (342 kB)\n",
      "Collecting geopy\n",
      "  Downloading geopy-2.3.0-py3-none-any.whl (119 kB)\n",
      "Requirement already satisfied, skipping upgrade: six>=1.7.0 in c:\\users\\shen\\anaconda3\\lib\\site-packages (from retrying->getorg) (1.15.0)\n",
      "Collecting deprecated\n",
      "  Downloading Deprecated-1.2.14-py2.py3-none-any.whl (9.6 kB)\n",
      "Collecting pyjwt[crypto]>=2.4.0\n",
      "  Downloading PyJWT-2.7.0-py3-none-any.whl (22 kB)\n",
      "Requirement already satisfied, skipping upgrade: requests>=2.14.0 in c:\\users\\shen\\anaconda3\\lib\\site-packages (from pygithub->getorg) (2.26.0)\n",
      "Requirement already satisfied, skipping upgrade: pynacl>=1.4.0 in c:\\users\\shen\\anaconda3\\lib\\site-packages (from pygithub->getorg) (1.4.0)\n",
      "Collecting geographiclib<3,>=1.52\n",
      "  Downloading geographiclib-2.0-py3-none-any.whl (40 kB)\n",
      "Requirement already satisfied, skipping upgrade: wrapt<2,>=1.10 in c:\\users\\shen\\anaconda3\\lib\\site-packages (from deprecated->pygithub->getorg) (1.11.2)\n",
      "Collecting cryptography>=3.4.0; extra == \"crypto\"\n",
      "  Downloading cryptography-41.0.1-cp37-abi3-win_amd64.whl (2.6 MB)\n",
      "Requirement already satisfied, skipping upgrade: urllib3<1.27,>=1.21.1 in c:\\users\\shen\\anaconda3\\lib\\site-packages (from requests>=2.14.0->pygithub->getorg) (1.25.11)\n",
      "Requirement already satisfied, skipping upgrade: idna<4,>=2.5; python_version >= \"3\" in c:\\users\\shen\\anaconda3\\lib\\site-packages (from requests>=2.14.0->pygithub->getorg) (2.10)\n",
      "Requirement already satisfied, skipping upgrade: certifi>=2017.4.17 in c:\\users\\shen\\anaconda3\\lib\\site-packages (from requests>=2.14.0->pygithub->getorg) (2020.6.20)\n",
      "Requirement already satisfied, skipping upgrade: charset-normalizer~=2.0.0; python_version >= \"3\" in c:\\users\\shen\\anaconda3\\lib\\site-packages (from requests>=2.14.0->pygithub->getorg) (2.0.7)\n",
      "Requirement already satisfied, skipping upgrade: cffi>=1.4.1 in c:\\users\\shen\\anaconda3\\lib\\site-packages (from pynacl>=1.4.0->pygithub->getorg) (1.14.3)\n",
      "Requirement already satisfied, skipping upgrade: pycparser in c:\\users\\shen\\anaconda3\\lib\\site-packages (from cffi>=1.4.1->pynacl>=1.4.0->pygithub->getorg) (2.20)\n",
      "Installing collected packages: retrying, deprecated, cryptography, pyjwt, pygithub, geographiclib, geopy, getorg\n",
      "  Attempting uninstall: cryptography\n",
      "    Found existing installation: cryptography 3.1.1\n",
      "    Uninstalling cryptography-3.1.1:\n",
      "      Successfully uninstalled cryptography-3.1.1\n",
      "Successfully installed cryptography-41.0.1 deprecated-1.2.14 geographiclib-2.0 geopy-2.3.0 getorg-0.3.1 pygithub-1.59.0 pyjwt-2.7.0 retrying-1.3.4\n",
      "\n",
      "Iywidgets and ipyleaflet support disabled. You must be in a Jupyter notebook to use this feature.\n",
      "Error raised:\n",
      "No module named 'ipyleaflet'\n",
      "Check that you have enabled ipyleaflet in Jupyter with:\n",
      "    jupyter nbextension enable --py ipyleaflet\n"
     ]
    }
   ],
   "source": [
    "%pip install getorg --upgrade\n",
    "import glob\n",
    "import getorg\n",
    "from geopy import Nominatim"
   ]
  },
  {
   "cell_type": "code",
   "execution_count": 2,
   "metadata": {
    "collapsed": false
   },
   "outputs": [],
   "source": [
    "g = glob.glob(\"*.md\")"
   ]
  },
  {
   "cell_type": "code",
   "execution_count": 3,
   "metadata": {
    "collapsed": true
   },
   "outputs": [],
   "source": [
    "geocoder = Nominatim()\n",
    "location_dict = {}\n",
    "location = \"\"\n",
    "permalink = \"\"\n",
    "title = \"\""
   ]
  },
  {
   "cell_type": "code",
   "execution_count": 4,
   "metadata": {
    "collapsed": false
   },
   "outputs": [
    {
     "name": "stdout",
     "output_type": "stream",
     "text": [
      "Berkeley CA, USA \n",
      " Berkeley, Alameda County, California, United States of America\n",
      "Los Angeles, CA \n",
      " LA, Los Angeles County, California, United States of America\n",
      "London, UK \n",
      " London, Greater London, England, UK\n",
      "San Francisco, California \n",
      " SF, California, United States of America\n"
     ]
    }
   ],
   "source": [
    "\n",
    "for file in g:\n",
    "    with open(file, 'r') as f:\n",
    "        lines = f.read()\n",
    "        if lines.find('location: \"') > 1:\n",
    "            loc_start = lines.find('location: \"') + 11\n",
    "            lines_trim = lines[loc_start:]\n",
    "            loc_end = lines_trim.find('\"')\n",
    "            location = lines_trim[:loc_end]\n",
    "                            \n",
    "           \n",
    "        location_dict[location] = geocoder.geocode(location)\n",
    "        print(location, \"\\n\", location_dict[location])\n"
   ]
  },
  {
   "cell_type": "code",
   "execution_count": 5,
   "metadata": {
    "collapsed": false
   },
   "outputs": [
    {
     "data": {
      "text/plain": [
       "'Written map to ../talkmap/'"
      ]
     },
     "execution_count": 5,
     "metadata": {},
     "output_type": "execute_result"
    }
   ],
   "source": [
    "m = getorg.orgmap.create_map_obj()\n",
    "getorg.orgmap.output_html_cluster_map(location_dict, folder_name=\"../talkmap\", hashed_usernames=False)"
   ]
  },
  {
   "cell_type": "code",
   "execution_count": null,
   "metadata": {
    "collapsed": true
   },
   "outputs": [],
   "source": []
  }
 ],
 "metadata": {
  "anaconda-cloud": {},
  "kernelspec": {
   "display_name": "base",
   "language": "python",
   "name": "python3"
  },
  "language_info": {
   "codemirror_mode": {
    "name": "ipython",
    "version": 3
   },
   "file_extension": ".py",
   "mimetype": "text/x-python",
   "name": "python",
   "nbconvert_exporter": "python",
   "pygments_lexer": "ipython3",
   "version": "3.8.5"
  }
 },
 "nbformat": 4,
 "nbformat_minor": 0
}
